{
 "cells": [
  {
   "cell_type": "markdown",
   "id": "b928424c",
   "metadata": {},
   "source": [
    "# TORCH.AUTOGRAD를 사용한 자동 미분"
   ]
  },
  {
   "cell_type": "code",
   "execution_count": 26,
   "id": "35fe45df",
   "metadata": {},
   "outputs": [],
   "source": [
    "import torch\n",
    "\n",
    "x = torch.ones(5) # input tensor\n",
    "y = torch.zeros(3) # expected output\n",
    "w = torch.randn(5, 3, requires_grad=True) \n",
    "b = torch.randn(3, requires_grad=True)\n",
    "z = torch.matmul(x, w) + b\n",
    "loss = torch.nn.functional.binary_cross_entropy_with_logits(z, y)"
   ]
  },
  {
   "cell_type": "markdown",
   "id": "0d780001",
   "metadata": {},
   "source": [
    "### Tensor, Function과 연산그래프(Computational graph)"
   ]
  },
  {
   "cell_type": "code",
   "execution_count": 19,
   "id": "2613ab1d",
   "metadata": {},
   "outputs": [
    {
     "name": "stdout",
     "output_type": "stream",
     "text": [
      "Gradient function for z = <AddBackward0 object at 0x7dd92d462830>\n",
      "Gradient function for loss = <BinaryCrossEntropyWithLogitsBackward0 object at 0x7dd92d348310>\n"
     ]
    }
   ],
   "source": [
    "print(f\"Gradient function for z = {z.grad_fn}\")\n",
    "print(f\"Gradient function for loss = {loss.grad_fn}\")"
   ]
  },
  {
   "cell_type": "markdown",
   "id": "31a514a1",
   "metadata": {},
   "source": [
    "### 변화도(Gradient) 계산하기"
   ]
  },
  {
   "cell_type": "code",
   "execution_count": 27,
   "id": "cf3be301",
   "metadata": {},
   "outputs": [
    {
     "name": "stdout",
     "output_type": "stream",
     "text": [
      "tensor([[0.0381, 0.0570, 0.0627],\n",
      "        [0.0381, 0.0570, 0.0627],\n",
      "        [0.0381, 0.0570, 0.0627],\n",
      "        [0.0381, 0.0570, 0.0627],\n",
      "        [0.0381, 0.0570, 0.0627]])\n",
      "tensor([0.0381, 0.0570, 0.0627])\n"
     ]
    }
   ],
   "source": [
    "loss.backward() # 그래프의 역방향 계산이 시작됨\n",
    "print(w.grad)\n",
    "print(b.grad)"
   ]
  },
  {
   "cell_type": "markdown",
   "id": "640cba19",
   "metadata": {},
   "source": [
    "### 변화도 추적 멈추기"
   ]
  },
  {
   "cell_type": "code",
   "execution_count": 9,
   "id": "3d63d569",
   "metadata": {},
   "outputs": [
    {
     "name": "stdout",
     "output_type": "stream",
     "text": [
      "True\n",
      "False\n"
     ]
    }
   ],
   "source": [
    "z = torch.matmul(x, w)+b\n",
    "print(z.requires_grad)\n",
    "\n",
    "with torch.no_grad():\n",
    "    z = torch.matmul(x, w)+b\n",
    "print(z.requires_grad)"
   ]
  },
  {
   "cell_type": "code",
   "execution_count": 10,
   "id": "5db221dc",
   "metadata": {},
   "outputs": [
    {
     "name": "stdout",
     "output_type": "stream",
     "text": [
      "False\n"
     ]
    }
   ],
   "source": [
    "z = torch.matmul(x, w)+b\n",
    "z_det = z.detach()\n",
    "print(z_det.requires_grad)"
   ]
  }
 ],
 "metadata": {
  "kernelspec": {
   "display_name": "torch_2.7.1",
   "language": "python",
   "name": "python3"
  },
  "language_info": {
   "codemirror_mode": {
    "name": "ipython",
    "version": 3
   },
   "file_extension": ".py",
   "mimetype": "text/x-python",
   "name": "python",
   "nbconvert_exporter": "python",
   "pygments_lexer": "ipython3",
   "version": "3.10.18"
  }
 },
 "nbformat": 4,
 "nbformat_minor": 5
}
