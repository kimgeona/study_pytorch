{
 "cells": [
  {
   "cell_type": "markdown",
   "id": "83efd7c6",
   "metadata": {},
   "source": [
    "# 신경망 모델 구성하기"
   ]
  },
  {
   "cell_type": "code",
   "execution_count": 1,
   "id": "d239ba1f",
   "metadata": {},
   "outputs": [],
   "source": [
    "import os\n",
    "import torch\n",
    "from torch import nn\n",
    "from torch.utils.data import DataLoader\n",
    "from torchvision import datasets, transforms"
   ]
  },
  {
   "cell_type": "markdown",
   "id": "d1fa63b3",
   "metadata": {},
   "source": [
    "### 학습을 위한 장치 얻기"
   ]
  },
  {
   "cell_type": "code",
   "execution_count": 2,
   "id": "604a3764",
   "metadata": {},
   "outputs": [
    {
     "name": "stdout",
     "output_type": "stream",
     "text": [
      "Using cuda device\n"
     ]
    }
   ],
   "source": [
    "device = (\n",
    "    \"cuda\"\n",
    "    if torch.cuda.is_available()\n",
    "    else \"mps\"\n",
    "    if torch.backends.mps.is_available()\n",
    "    else \"cpu\"\n",
    ")\n",
    "print(f\"Using {device} device\")"
   ]
  },
  {
   "cell_type": "markdown",
   "id": "629099a4",
   "metadata": {},
   "source": [
    "### 클래스 정의하기"
   ]
  },
  {
   "cell_type": "code",
   "execution_count": 6,
   "id": "4ba1fbe6",
   "metadata": {},
   "outputs": [],
   "source": [
    "class NeuralNetwork(nn.Module):\n",
    "    def __init__(self):\n",
    "        super().__init__()\n",
    "        self.flatten = nn.Flatten()\n",
    "        self.linear_relu_stack = nn.Sequential(\n",
    "            nn.Linear(28*28, 512),\n",
    "            nn.ReLU(),\n",
    "            nn.Linear(512, 512),\n",
    "            nn.ReLU(),\n",
    "            nn.Linear(512, 10),\n",
    "        )\n",
    "\n",
    "    def forward(self, x):\n",
    "        x = self.flatten(x)\n",
    "        logits = self.linear_relu_stack(x)\n",
    "        return logits"
   ]
  },
  {
   "cell_type": "code",
   "execution_count": 7,
   "id": "18f5e131",
   "metadata": {},
   "outputs": [
    {
     "name": "stdout",
     "output_type": "stream",
     "text": [
      "NeuralNetwork(\n",
      "  (flatten): Flatten(start_dim=1, end_dim=-1)\n",
      "  (linear_relu_stack): Sequential(\n",
      "    (0): Linear(in_features=784, out_features=512, bias=True)\n",
      "    (1): ReLU()\n",
      "    (2): Linear(in_features=512, out_features=512, bias=True)\n",
      "    (3): ReLU()\n",
      "    (4): Linear(in_features=512, out_features=10, bias=True)\n",
      "  )\n",
      ")\n"
     ]
    }
   ],
   "source": [
    "model = NeuralNetwork().to(device)\n",
    "print(model)"
   ]
  },
  {
   "cell_type": "code",
   "execution_count": 8,
   "id": "e86b7a80",
   "metadata": {},
   "outputs": [
    {
     "name": "stdout",
     "output_type": "stream",
     "text": [
      "Predicted class: tensor([5], device='cuda:0')\n"
     ]
    }
   ],
   "source": [
    "X = torch.rand(1, 28, 28, device=device)\n",
    "logits = model(X)\n",
    "pred_probab = nn.Softmax(dim=1)(logits)\n",
    "y_pred = pred_probab.argmax(1)\n",
    "print(f\"Predicted class: {y_pred}\")"
   ]
  },
  {
   "cell_type": "markdown",
   "id": "6a9f8ccc",
   "metadata": {},
   "source": [
    "### 모델 계층(Layer)"
   ]
  },
  {
   "cell_type": "code",
   "execution_count": 9,
   "id": "1fc80edd",
   "metadata": {},
   "outputs": [
    {
     "name": "stdout",
     "output_type": "stream",
     "text": [
      "torch.Size([3, 28, 28])\n"
     ]
    }
   ],
   "source": [
    "input_image = torch.rand(3, 28, 28)\n",
    "print(input_image.size())"
   ]
  },
  {
   "cell_type": "code",
   "execution_count": 10,
   "id": "1ce5a3c8",
   "metadata": {},
   "outputs": [
    {
     "name": "stdout",
     "output_type": "stream",
     "text": [
      "torch.Size([3, 784])\n"
     ]
    }
   ],
   "source": [
    "# nn.Flatten\n",
    "\n",
    "flatten = nn.Flatten()\n",
    "flat_image = flatten(input_image)\n",
    "print(flat_image.size())"
   ]
  },
  {
   "cell_type": "code",
   "execution_count": 11,
   "id": "8b47787f",
   "metadata": {},
   "outputs": [
    {
     "name": "stdout",
     "output_type": "stream",
     "text": [
      "torch.Size([3, 20])\n"
     ]
    }
   ],
   "source": [
    "# nn.Linear\n",
    "\n",
    "layer1 = nn.Linear(in_features=28*28, out_features=20)\n",
    "hidden1 = layer1(flat_image)\n",
    "print(hidden1.size())"
   ]
  },
  {
   "cell_type": "code",
   "execution_count": 12,
   "id": "1c401def",
   "metadata": {},
   "outputs": [
    {
     "name": "stdout",
     "output_type": "stream",
     "text": [
      "Before ReLU: tensor([[-0.0306, -0.6617, -0.1332, -0.0870, -0.1126, -0.1323,  0.9918, -0.3469,\n",
      "          0.1682,  0.1799,  0.6942, -0.1228,  0.0178, -0.1200,  0.0274, -0.0306,\n",
      "         -0.5949,  0.1423, -0.0107,  0.1472],\n",
      "        [ 0.0260, -1.0427, -0.2169, -0.0191,  0.0554,  0.0659,  0.5268, -0.2862,\n",
      "          0.2389,  0.0404,  0.5175, -0.3873, -0.1350, -0.1758,  0.2911, -0.5512,\n",
      "         -0.6966,  0.1751, -0.0535,  0.5622],\n",
      "        [ 0.0383, -0.6137,  0.1644, -0.1995, -0.0587, -0.1530,  0.6952, -0.4682,\n",
      "         -0.0936, -0.0521,  0.4061,  0.1538,  0.1211, -0.3642, -0.2853, -0.4476,\n",
      "         -0.5112,  0.3202, -0.0383,  0.2038]], grad_fn=<AddmmBackward0>)\n",
      "\n",
      "\n",
      "After ReLU: tensor([[0.0000, 0.0000, 0.0000, 0.0000, 0.0000, 0.0000, 0.9918, 0.0000, 0.1682,\n",
      "         0.1799, 0.6942, 0.0000, 0.0178, 0.0000, 0.0274, 0.0000, 0.0000, 0.1423,\n",
      "         0.0000, 0.1472],\n",
      "        [0.0260, 0.0000, 0.0000, 0.0000, 0.0554, 0.0659, 0.5268, 0.0000, 0.2389,\n",
      "         0.0404, 0.5175, 0.0000, 0.0000, 0.0000, 0.2911, 0.0000, 0.0000, 0.1751,\n",
      "         0.0000, 0.5622],\n",
      "        [0.0383, 0.0000, 0.1644, 0.0000, 0.0000, 0.0000, 0.6952, 0.0000, 0.0000,\n",
      "         0.0000, 0.4061, 0.1538, 0.1211, 0.0000, 0.0000, 0.0000, 0.0000, 0.3202,\n",
      "         0.0000, 0.2038]], grad_fn=<ReluBackward0>)\n"
     ]
    }
   ],
   "source": [
    "# nn.ReLU\n",
    "\n",
    "print(f\"Before ReLU: {hidden1}\\n\\n\")\n",
    "hidden1 = nn.ReLU()(hidden1)\n",
    "print(f\"After ReLU: {hidden1}\")"
   ]
  },
  {
   "cell_type": "code",
   "execution_count": 13,
   "id": "a527c361",
   "metadata": {},
   "outputs": [],
   "source": [
    "# nn.Sequential\n",
    "\n",
    "seq_modules = nn.Sequential(\n",
    "    flatten,\n",
    "    layer1,\n",
    "    nn.ReLU(),\n",
    "    nn.Linear(20, 10)\n",
    ")\n",
    "input_image = torch.rand(3,28,28)\n",
    "logits = seq_modules(input_image)"
   ]
  },
  {
   "cell_type": "code",
   "execution_count": 16,
   "id": "8fcc7012",
   "metadata": {},
   "outputs": [],
   "source": [
    "# nn.Softmax\n",
    "\n",
    "softmax = nn.Softmax(dim=1)\n",
    "pred_probab = softmax(logits)"
   ]
  },
  {
   "cell_type": "markdown",
   "id": "5816b34e",
   "metadata": {},
   "source": [
    "### 모델 매개변수"
   ]
  },
  {
   "cell_type": "code",
   "execution_count": 20,
   "id": "d056a397",
   "metadata": {},
   "outputs": [
    {
     "name": "stdout",
     "output_type": "stream",
     "text": [
      "Model structure: NeuralNetwork(\n",
      "  (flatten): Flatten(start_dim=1, end_dim=-1)\n",
      "  (linear_relu_stack): Sequential(\n",
      "    (0): Linear(in_features=784, out_features=512, bias=True)\n",
      "    (1): ReLU()\n",
      "    (2): Linear(in_features=512, out_features=512, bias=True)\n",
      "    (3): ReLU()\n",
      "    (4): Linear(in_features=512, out_features=10, bias=True)\n",
      "  )\n",
      ")\n",
      "\n",
      "\n",
      "Layer: linear_relu_stack.0.weight | Size: torch.Size([512, 784])\n",
      "\n",
      "Layer: linear_relu_stack.0.bias | Size: torch.Size([512])\n",
      "\n",
      "Layer: linear_relu_stack.2.weight | Size: torch.Size([512, 512])\n",
      "\n",
      "Layer: linear_relu_stack.2.bias | Size: torch.Size([512])\n",
      "\n",
      "Layer: linear_relu_stack.4.weight | Size: torch.Size([10, 512])\n",
      "\n",
      "Layer: linear_relu_stack.4.bias | Size: torch.Size([10])\n",
      "\n"
     ]
    }
   ],
   "source": [
    "print(f\"Model structure: {model}\\n\\n\")\n",
    "\n",
    "for name, param in model.named_parameters():\n",
    "    print(f\"Layer: {name} | Size: {param.size()}\\n\")\n",
    "    #print(f\"Layer: {name} | Size: {param.size()} | Values : {param[:2]} \\n\")"
   ]
  }
 ],
 "metadata": {
  "kernelspec": {
   "display_name": "torch_2.7.1",
   "language": "python",
   "name": "python3"
  },
  "language_info": {
   "codemirror_mode": {
    "name": "ipython",
    "version": 3
   },
   "file_extension": ".py",
   "mimetype": "text/x-python",
   "name": "python",
   "nbconvert_exporter": "python",
   "pygments_lexer": "ipython3",
   "version": "3.10.18"
  }
 },
 "nbformat": 4,
 "nbformat_minor": 5
}
